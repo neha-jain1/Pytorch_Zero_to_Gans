{
 "cells": [
  {
   "cell_type": "code",
   "execution_count": 1,
   "metadata": {},
   "outputs": [],
   "source": [
    "import pandas as pd\n",
    "import gensim"
   ]
  },
  {
   "cell_type": "code",
   "execution_count": 2,
   "metadata": {},
   "outputs": [],
   "source": [
    "import numpy as np\n",
    "import cleantext"
   ]
  },
  {
   "cell_type": "code",
   "execution_count": 3,
   "metadata": {},
   "outputs": [],
   "source": [
    "import re \n",
    "import contractions"
   ]
  },
  {
   "cell_type": "code",
   "execution_count": 4,
   "metadata": {},
   "outputs": [],
   "source": [
    "from nltk.corpus import stopwords"
   ]
  },
  {
   "cell_type": "code",
   "execution_count": 5,
   "metadata": {},
   "outputs": [],
   "source": [
    "df = pd.read_csv('train.csv')"
   ]
  },
  {
   "cell_type": "code",
   "execution_count": 6,
   "metadata": {},
   "outputs": [
    {
     "data": {
      "text/html": [
       "<div>\n",
       "<style scoped>\n",
       "    .dataframe tbody tr th:only-of-type {\n",
       "        vertical-align: middle;\n",
       "    }\n",
       "\n",
       "    .dataframe tbody tr th {\n",
       "        vertical-align: top;\n",
       "    }\n",
       "\n",
       "    .dataframe thead th {\n",
       "        text-align: right;\n",
       "    }\n",
       "</style>\n",
       "<table border=\"1\" class=\"dataframe\">\n",
       "  <thead>\n",
       "    <tr style=\"text-align: right;\">\n",
       "      <th></th>\n",
       "      <th>id</th>\n",
       "      <th>keyword</th>\n",
       "      <th>location</th>\n",
       "      <th>text</th>\n",
       "      <th>target</th>\n",
       "    </tr>\n",
       "  </thead>\n",
       "  <tbody>\n",
       "    <tr>\n",
       "      <th>0</th>\n",
       "      <td>1</td>\n",
       "      <td>NaN</td>\n",
       "      <td>NaN</td>\n",
       "      <td>Our Deeds are the Reason of this #earthquake M...</td>\n",
       "      <td>1</td>\n",
       "    </tr>\n",
       "    <tr>\n",
       "      <th>1</th>\n",
       "      <td>4</td>\n",
       "      <td>NaN</td>\n",
       "      <td>NaN</td>\n",
       "      <td>Forest fire near La Ronge Sask. Canada</td>\n",
       "      <td>1</td>\n",
       "    </tr>\n",
       "    <tr>\n",
       "      <th>2</th>\n",
       "      <td>5</td>\n",
       "      <td>NaN</td>\n",
       "      <td>NaN</td>\n",
       "      <td>All residents asked to 'shelter in place' are ...</td>\n",
       "      <td>1</td>\n",
       "    </tr>\n",
       "    <tr>\n",
       "      <th>3</th>\n",
       "      <td>6</td>\n",
       "      <td>NaN</td>\n",
       "      <td>NaN</td>\n",
       "      <td>13,000 people receive #wildfires evacuation or...</td>\n",
       "      <td>1</td>\n",
       "    </tr>\n",
       "    <tr>\n",
       "      <th>4</th>\n",
       "      <td>7</td>\n",
       "      <td>NaN</td>\n",
       "      <td>NaN</td>\n",
       "      <td>Just got sent this photo from Ruby #Alaska as ...</td>\n",
       "      <td>1</td>\n",
       "    </tr>\n",
       "  </tbody>\n",
       "</table>\n",
       "</div>"
      ],
      "text/plain": [
       "   id keyword location                                               text  \\\n",
       "0   1     NaN      NaN  Our Deeds are the Reason of this #earthquake M...   \n",
       "1   4     NaN      NaN             Forest fire near La Ronge Sask. Canada   \n",
       "2   5     NaN      NaN  All residents asked to 'shelter in place' are ...   \n",
       "3   6     NaN      NaN  13,000 people receive #wildfires evacuation or...   \n",
       "4   7     NaN      NaN  Just got sent this photo from Ruby #Alaska as ...   \n",
       "\n",
       "   target  \n",
       "0       1  \n",
       "1       1  \n",
       "2       1  \n",
       "3       1  \n",
       "4       1  "
      ]
     },
     "execution_count": 6,
     "metadata": {},
     "output_type": "execute_result"
    }
   ],
   "source": [
    "df.head()"
   ]
  },
  {
   "cell_type": "code",
   "execution_count": 7,
   "metadata": {},
   "outputs": [
    {
     "data": {
      "text/plain": [
       "(7613, 5)"
      ]
     },
     "execution_count": 7,
     "metadata": {},
     "output_type": "execute_result"
    }
   ],
   "source": [
    "df.shape"
   ]
  },
  {
   "cell_type": "code",
   "execution_count": 8,
   "metadata": {},
   "outputs": [
    {
     "data": {
      "text/plain": [
       "id             0\n",
       "keyword       61\n",
       "location    2533\n",
       "text           0\n",
       "target         0\n",
       "dtype: int64"
      ]
     },
     "execution_count": 8,
     "metadata": {},
     "output_type": "execute_result"
    }
   ],
   "source": [
    "df.isnull().sum()"
   ]
  },
  {
   "cell_type": "code",
   "execution_count": 9,
   "metadata": {},
   "outputs": [],
   "source": [
    " df.fillna('missing',inplace=True)"
   ]
  },
  {
   "cell_type": "code",
   "execution_count": 10,
   "metadata": {},
   "outputs": [
    {
     "data": {
      "text/plain": [
       "id          0\n",
       "keyword     0\n",
       "location    0\n",
       "text        0\n",
       "target      0\n",
       "dtype: int64"
      ]
     },
     "execution_count": 10,
     "metadata": {},
     "output_type": "execute_result"
    }
   ],
   "source": [
    "df.isnull().sum()"
   ]
  },
  {
   "cell_type": "code",
   "execution_count": 11,
   "metadata": {},
   "outputs": [
    {
     "data": {
      "text/plain": [
       "0    4342\n",
       "1    3271\n",
       "Name: target, dtype: int64"
      ]
     },
     "execution_count": 11,
     "metadata": {},
     "output_type": "execute_result"
    }
   ],
   "source": [
    "\n",
    "df['target'].value_counts()"
   ]
  },
  {
   "cell_type": "markdown",
   "metadata": {},
   "source": [
    "## Text Cleaning "
   ]
  },
  {
   "cell_type": "code",
   "execution_count": 46,
   "metadata": {},
   "outputs": [
    {
     "data": {
      "text/plain": [
       "'13,000 people receive #wildfires evacuation orders in California '"
      ]
     },
     "execution_count": 46,
     "metadata": {},
     "output_type": "execute_result"
    }
   ],
   "source": [
    "df['text'][3]"
   ]
  },
  {
   "cell_type": "code",
   "execution_count": 49,
   "metadata": {},
   "outputs": [],
   "source": [
    "def clean_text(text):\n",
    "    # Handling contractions\n",
    "    text = contractions.fix(text)\n",
    "    # Clean text inbuilt function\n",
    "    text = cleantext.clean(text, no_digits=True,replace_with_digit='',no_punct=True,no_currency_symbols=True)\n",
    "    # Remove # values\n",
    "    text = re.sub(r'#\\w+','',text)\n",
    "    text = text.split(' ')\n",
    "    text = [word for word in text if word not in stopwords.words('english')]\n",
    "    text = ' '.join(text)\n",
    "    return text"
   ]
  },
  {
   "cell_type": "code",
   "execution_count": 51,
   "metadata": {},
   "outputs": [],
   "source": [
    "df['text'] = df['text'].apply(lambda x: clean_text(x))"
   ]
  },
  {
   "cell_type": "code",
   "execution_count": 52,
   "metadata": {},
   "outputs": [
    {
     "data": {
      "text/plain": [
       "'people receive wildfires evacuation orders california'"
      ]
     },
     "execution_count": 52,
     "metadata": {},
     "output_type": "execute_result"
    }
   ],
   "source": [
    "df['text'][3]"
   ]
  },
  {
   "cell_type": "markdown",
   "metadata": {},
   "source": [
    "## Creating word embedding for each sentence"
   ]
  },
  {
   "cell_type": "code",
   "execution_count": null,
   "metadata": {},
   "outputs": [],
   "source": [
    "# # One time run command \n",
    "# !python -m spacy download en"
   ]
  },
  {
   "cell_type": "code",
   "execution_count": null,
   "metadata": {},
   "outputs": [],
   "source": [
    "# # One time run command \n",
    "# !python -m spacy download en_vectors_web_lg"
   ]
  },
  {
   "cell_type": "code",
   "execution_count": 18,
   "metadata": {},
   "outputs": [
    {
     "name": "stdout",
     "output_type": "stream",
     "text": [
      "Total word vectors: 1070971\n"
     ]
    }
   ],
   "source": [
    "import spacy\n",
    "\n",
    "nlp = spacy.load('en_vectors_web_lg')\n",
    "total_vectors = len(nlp.vocab.vectors)\n",
    "\n",
    "print('Total word vectors:', total_vectors)"
   ]
  },
  {
   "cell_type": "code",
   "execution_count": 19,
   "metadata": {},
   "outputs": [
    {
     "data": {
      "text/plain": [
       "300"
      ]
     },
     "execution_count": 19,
     "metadata": {},
     "output_type": "execute_result"
    }
   ],
   "source": [
    "# Embedding Length \n",
    "nlp.vocab.vectors_length"
   ]
  },
  {
   "cell_type": "code",
   "execution_count": 53,
   "metadata": {},
   "outputs": [],
   "source": [
    "def sentence_embedding(text):\n",
    "    word_list = list(set(text.split(' ')))\n",
    "    word_vector = nlp(word_list[0]).vector\n",
    "    n = len(word_list)\n",
    "    for word in word_list[1:]:\n",
    "        word_vector += np.array(nlp(word).vector)\n",
    "    final_vector = word_vector/n\n",
    "    return np.array(final_vector)"
   ]
  },
  {
   "cell_type": "code",
   "execution_count": 54,
   "metadata": {},
   "outputs": [],
   "source": [
    "l = []\n",
    "for i in df['text']:\n",
    "    l.append(sentence_embedding(i))"
   ]
  },
  {
   "cell_type": "code",
   "execution_count": 55,
   "metadata": {},
   "outputs": [
    {
     "data": {
      "text/plain": [
       "7613"
      ]
     },
     "execution_count": 55,
     "metadata": {},
     "output_type": "execute_result"
    }
   ],
   "source": [
    "len(l)"
   ]
  },
  {
   "cell_type": "code",
   "execution_count": 56,
   "metadata": {},
   "outputs": [],
   "source": [
    "word_embedding_df = pd.DataFrame(l)\n"
   ]
  },
  {
   "cell_type": "code",
   "execution_count": 57,
   "metadata": {},
   "outputs": [
    {
     "data": {
      "text/html": [
       "<div>\n",
       "<style scoped>\n",
       "    .dataframe tbody tr th:only-of-type {\n",
       "        vertical-align: middle;\n",
       "    }\n",
       "\n",
       "    .dataframe tbody tr th {\n",
       "        vertical-align: top;\n",
       "    }\n",
       "\n",
       "    .dataframe thead th {\n",
       "        text-align: right;\n",
       "    }\n",
       "</style>\n",
       "<table border=\"1\" class=\"dataframe\">\n",
       "  <thead>\n",
       "    <tr style=\"text-align: right;\">\n",
       "      <th></th>\n",
       "      <th>0</th>\n",
       "      <th>1</th>\n",
       "      <th>2</th>\n",
       "      <th>3</th>\n",
       "      <th>4</th>\n",
       "      <th>5</th>\n",
       "      <th>6</th>\n",
       "      <th>7</th>\n",
       "      <th>8</th>\n",
       "      <th>9</th>\n",
       "      <th>...</th>\n",
       "      <th>290</th>\n",
       "      <th>291</th>\n",
       "      <th>292</th>\n",
       "      <th>293</th>\n",
       "      <th>294</th>\n",
       "      <th>295</th>\n",
       "      <th>296</th>\n",
       "      <th>297</th>\n",
       "      <th>298</th>\n",
       "      <th>299</th>\n",
       "    </tr>\n",
       "  </thead>\n",
       "  <tbody>\n",
       "    <tr>\n",
       "      <th>0</th>\n",
       "      <td>-0.462142</td>\n",
       "      <td>0.052778</td>\n",
       "      <td>-0.147526</td>\n",
       "      <td>-0.022433</td>\n",
       "      <td>-0.065914</td>\n",
       "      <td>-0.163390</td>\n",
       "      <td>-0.084180</td>\n",
       "      <td>0.149339</td>\n",
       "      <td>0.007110</td>\n",
       "      <td>2.059819</td>\n",
       "      <td>...</td>\n",
       "      <td>-0.315468</td>\n",
       "      <td>0.186460</td>\n",
       "      <td>-0.325243</td>\n",
       "      <td>-0.014464</td>\n",
       "      <td>0.361223</td>\n",
       "      <td>-0.134999</td>\n",
       "      <td>0.008728</td>\n",
       "      <td>0.176468</td>\n",
       "      <td>-0.029409</td>\n",
       "      <td>-0.144857</td>\n",
       "    </tr>\n",
       "    <tr>\n",
       "      <th>1</th>\n",
       "      <td>-0.014817</td>\n",
       "      <td>-0.092123</td>\n",
       "      <td>-0.107169</td>\n",
       "      <td>-0.338657</td>\n",
       "      <td>0.322136</td>\n",
       "      <td>0.048467</td>\n",
       "      <td>0.321796</td>\n",
       "      <td>-0.062403</td>\n",
       "      <td>-0.188868</td>\n",
       "      <td>1.100879</td>\n",
       "      <td>...</td>\n",
       "      <td>-0.000271</td>\n",
       "      <td>0.066260</td>\n",
       "      <td>0.135487</td>\n",
       "      <td>0.009727</td>\n",
       "      <td>0.243807</td>\n",
       "      <td>0.165720</td>\n",
       "      <td>-0.062201</td>\n",
       "      <td>-0.115065</td>\n",
       "      <td>-0.260096</td>\n",
       "      <td>0.124245</td>\n",
       "    </tr>\n",
       "    <tr>\n",
       "      <th>2</th>\n",
       "      <td>0.046859</td>\n",
       "      <td>0.066338</td>\n",
       "      <td>-0.020495</td>\n",
       "      <td>-0.047279</td>\n",
       "      <td>-0.174517</td>\n",
       "      <td>-0.160648</td>\n",
       "      <td>-0.019068</td>\n",
       "      <td>0.017220</td>\n",
       "      <td>-0.016927</td>\n",
       "      <td>2.809466</td>\n",
       "      <td>...</td>\n",
       "      <td>-0.229352</td>\n",
       "      <td>0.030798</td>\n",
       "      <td>0.291578</td>\n",
       "      <td>0.026442</td>\n",
       "      <td>-0.054712</td>\n",
       "      <td>-0.200036</td>\n",
       "      <td>-0.222045</td>\n",
       "      <td>0.130568</td>\n",
       "      <td>0.184944</td>\n",
       "      <td>-0.079101</td>\n",
       "    </tr>\n",
       "    <tr>\n",
       "      <th>3</th>\n",
       "      <td>-0.226582</td>\n",
       "      <td>0.198884</td>\n",
       "      <td>-0.027298</td>\n",
       "      <td>-0.249695</td>\n",
       "      <td>-0.169410</td>\n",
       "      <td>-0.059459</td>\n",
       "      <td>-0.052042</td>\n",
       "      <td>0.202244</td>\n",
       "      <td>0.039382</td>\n",
       "      <td>2.036350</td>\n",
       "      <td>...</td>\n",
       "      <td>-0.284480</td>\n",
       "      <td>0.263769</td>\n",
       "      <td>0.177242</td>\n",
       "      <td>-0.038433</td>\n",
       "      <td>-0.046832</td>\n",
       "      <td>-0.211249</td>\n",
       "      <td>-0.077434</td>\n",
       "      <td>-0.031381</td>\n",
       "      <td>0.162820</td>\n",
       "      <td>-0.051293</td>\n",
       "    </tr>\n",
       "    <tr>\n",
       "      <th>4</th>\n",
       "      <td>-0.158721</td>\n",
       "      <td>-0.086279</td>\n",
       "      <td>0.112909</td>\n",
       "      <td>-0.068443</td>\n",
       "      <td>-0.019881</td>\n",
       "      <td>0.102134</td>\n",
       "      <td>-0.081687</td>\n",
       "      <td>-0.034499</td>\n",
       "      <td>-0.050314</td>\n",
       "      <td>1.590501</td>\n",
       "      <td>...</td>\n",
       "      <td>-0.045970</td>\n",
       "      <td>0.211298</td>\n",
       "      <td>0.146740</td>\n",
       "      <td>0.180153</td>\n",
       "      <td>0.105765</td>\n",
       "      <td>-0.078480</td>\n",
       "      <td>-0.094092</td>\n",
       "      <td>-0.133159</td>\n",
       "      <td>-0.052387</td>\n",
       "      <td>0.109360</td>\n",
       "    </tr>\n",
       "  </tbody>\n",
       "</table>\n",
       "<p>5 rows × 300 columns</p>\n",
       "</div>"
      ],
      "text/plain": [
       "        0         1         2         3         4         5         6    \\\n",
       "0 -0.462142  0.052778 -0.147526 -0.022433 -0.065914 -0.163390 -0.084180   \n",
       "1 -0.014817 -0.092123 -0.107169 -0.338657  0.322136  0.048467  0.321796   \n",
       "2  0.046859  0.066338 -0.020495 -0.047279 -0.174517 -0.160648 -0.019068   \n",
       "3 -0.226582  0.198884 -0.027298 -0.249695 -0.169410 -0.059459 -0.052042   \n",
       "4 -0.158721 -0.086279  0.112909 -0.068443 -0.019881  0.102134 -0.081687   \n",
       "\n",
       "        7         8         9    ...       290       291       292       293  \\\n",
       "0  0.149339  0.007110  2.059819  ... -0.315468  0.186460 -0.325243 -0.014464   \n",
       "1 -0.062403 -0.188868  1.100879  ... -0.000271  0.066260  0.135487  0.009727   \n",
       "2  0.017220 -0.016927  2.809466  ... -0.229352  0.030798  0.291578  0.026442   \n",
       "3  0.202244  0.039382  2.036350  ... -0.284480  0.263769  0.177242 -0.038433   \n",
       "4 -0.034499 -0.050314  1.590501  ... -0.045970  0.211298  0.146740  0.180153   \n",
       "\n",
       "        294       295       296       297       298       299  \n",
       "0  0.361223 -0.134999  0.008728  0.176468 -0.029409 -0.144857  \n",
       "1  0.243807  0.165720 -0.062201 -0.115065 -0.260096  0.124245  \n",
       "2 -0.054712 -0.200036 -0.222045  0.130568  0.184944 -0.079101  \n",
       "3 -0.046832 -0.211249 -0.077434 -0.031381  0.162820 -0.051293  \n",
       "4  0.105765 -0.078480 -0.094092 -0.133159 -0.052387  0.109360  \n",
       "\n",
       "[5 rows x 300 columns]"
      ]
     },
     "execution_count": 57,
     "metadata": {},
     "output_type": "execute_result"
    }
   ],
   "source": [
    "word_embedding_df.head(5)"
   ]
  },
  {
   "cell_type": "code",
   "execution_count": 58,
   "metadata": {},
   "outputs": [],
   "source": [
    "word_embedding_df.to_csv('word_embedding_train_file.csv',index=False)"
   ]
  },
  {
   "cell_type": "markdown",
   "metadata": {},
   "source": [
    "## Creating Features for the whole dataset"
   ]
  },
  {
   "cell_type": "code",
   "execution_count": 12,
   "metadata": {},
   "outputs": [
    {
     "data": {
      "text/html": [
       "<div>\n",
       "<style scoped>\n",
       "    .dataframe tbody tr th:only-of-type {\n",
       "        vertical-align: middle;\n",
       "    }\n",
       "\n",
       "    .dataframe tbody tr th {\n",
       "        vertical-align: top;\n",
       "    }\n",
       "\n",
       "    .dataframe thead th {\n",
       "        text-align: right;\n",
       "    }\n",
       "</style>\n",
       "<table border=\"1\" class=\"dataframe\">\n",
       "  <thead>\n",
       "    <tr style=\"text-align: right;\">\n",
       "      <th></th>\n",
       "      <th>0</th>\n",
       "      <th>1</th>\n",
       "      <th>2</th>\n",
       "      <th>3</th>\n",
       "      <th>4</th>\n",
       "      <th>5</th>\n",
       "      <th>6</th>\n",
       "      <th>7</th>\n",
       "      <th>8</th>\n",
       "      <th>9</th>\n",
       "      <th>...</th>\n",
       "      <th>290</th>\n",
       "      <th>291</th>\n",
       "      <th>292</th>\n",
       "      <th>293</th>\n",
       "      <th>294</th>\n",
       "      <th>295</th>\n",
       "      <th>296</th>\n",
       "      <th>297</th>\n",
       "      <th>298</th>\n",
       "      <th>299</th>\n",
       "    </tr>\n",
       "  </thead>\n",
       "  <tbody>\n",
       "    <tr>\n",
       "      <th>0</th>\n",
       "      <td>-0.462142</td>\n",
       "      <td>0.052778</td>\n",
       "      <td>-0.147526</td>\n",
       "      <td>-0.022433</td>\n",
       "      <td>-0.065914</td>\n",
       "      <td>-0.163390</td>\n",
       "      <td>-0.084180</td>\n",
       "      <td>0.149339</td>\n",
       "      <td>0.007110</td>\n",
       "      <td>2.059819</td>\n",
       "      <td>...</td>\n",
       "      <td>-0.315468</td>\n",
       "      <td>0.18646</td>\n",
       "      <td>-0.325243</td>\n",
       "      <td>-0.014464</td>\n",
       "      <td>0.361223</td>\n",
       "      <td>-0.134999</td>\n",
       "      <td>0.008728</td>\n",
       "      <td>0.176468</td>\n",
       "      <td>-0.029409</td>\n",
       "      <td>-0.144857</td>\n",
       "    </tr>\n",
       "    <tr>\n",
       "      <th>1</th>\n",
       "      <td>-0.014817</td>\n",
       "      <td>-0.092123</td>\n",
       "      <td>-0.107169</td>\n",
       "      <td>-0.338657</td>\n",
       "      <td>0.322136</td>\n",
       "      <td>0.048467</td>\n",
       "      <td>0.321796</td>\n",
       "      <td>-0.062403</td>\n",
       "      <td>-0.188868</td>\n",
       "      <td>1.100879</td>\n",
       "      <td>...</td>\n",
       "      <td>-0.000271</td>\n",
       "      <td>0.06626</td>\n",
       "      <td>0.135487</td>\n",
       "      <td>0.009727</td>\n",
       "      <td>0.243807</td>\n",
       "      <td>0.165720</td>\n",
       "      <td>-0.062201</td>\n",
       "      <td>-0.115065</td>\n",
       "      <td>-0.260096</td>\n",
       "      <td>0.124245</td>\n",
       "    </tr>\n",
       "  </tbody>\n",
       "</table>\n",
       "<p>2 rows × 300 columns</p>\n",
       "</div>"
      ],
      "text/plain": [
       "          0         1         2         3         4         5         6  \\\n",
       "0 -0.462142  0.052778 -0.147526 -0.022433 -0.065914 -0.163390 -0.084180   \n",
       "1 -0.014817 -0.092123 -0.107169 -0.338657  0.322136  0.048467  0.321796   \n",
       "\n",
       "          7         8         9  ...       290      291       292       293  \\\n",
       "0  0.149339  0.007110  2.059819  ... -0.315468  0.18646 -0.325243 -0.014464   \n",
       "1 -0.062403 -0.188868  1.100879  ... -0.000271  0.06626  0.135487  0.009727   \n",
       "\n",
       "        294       295       296       297       298       299  \n",
       "0  0.361223 -0.134999  0.008728  0.176468 -0.029409 -0.144857  \n",
       "1  0.243807  0.165720 -0.062201 -0.115065 -0.260096  0.124245  \n",
       "\n",
       "[2 rows x 300 columns]"
      ]
     },
     "execution_count": 12,
     "metadata": {},
     "output_type": "execute_result"
    }
   ],
   "source": [
    "embedding_df = pd.read_csv('word_embedding_train_file.csv')\n",
    "embedding_df.head(2)"
   ]
  },
  {
   "cell_type": "code",
   "execution_count": 13,
   "metadata": {},
   "outputs": [
    {
     "data": {
      "text/html": [
       "<div>\n",
       "<style scoped>\n",
       "    .dataframe tbody tr th:only-of-type {\n",
       "        vertical-align: middle;\n",
       "    }\n",
       "\n",
       "    .dataframe tbody tr th {\n",
       "        vertical-align: top;\n",
       "    }\n",
       "\n",
       "    .dataframe thead th {\n",
       "        text-align: right;\n",
       "    }\n",
       "</style>\n",
       "<table border=\"1\" class=\"dataframe\">\n",
       "  <thead>\n",
       "    <tr style=\"text-align: right;\">\n",
       "      <th></th>\n",
       "      <th>id</th>\n",
       "      <th>keyword</th>\n",
       "      <th>location</th>\n",
       "      <th>text</th>\n",
       "      <th>target</th>\n",
       "    </tr>\n",
       "  </thead>\n",
       "  <tbody>\n",
       "    <tr>\n",
       "      <th>0</th>\n",
       "      <td>1</td>\n",
       "      <td>missing</td>\n",
       "      <td>missing</td>\n",
       "      <td>Our Deeds are the Reason of this #earthquake M...</td>\n",
       "      <td>1</td>\n",
       "    </tr>\n",
       "    <tr>\n",
       "      <th>1</th>\n",
       "      <td>4</td>\n",
       "      <td>missing</td>\n",
       "      <td>missing</td>\n",
       "      <td>Forest fire near La Ronge Sask. Canada</td>\n",
       "      <td>1</td>\n",
       "    </tr>\n",
       "    <tr>\n",
       "      <th>2</th>\n",
       "      <td>5</td>\n",
       "      <td>missing</td>\n",
       "      <td>missing</td>\n",
       "      <td>All residents asked to 'shelter in place' are ...</td>\n",
       "      <td>1</td>\n",
       "    </tr>\n",
       "    <tr>\n",
       "      <th>3</th>\n",
       "      <td>6</td>\n",
       "      <td>missing</td>\n",
       "      <td>missing</td>\n",
       "      <td>13,000 people receive #wildfires evacuation or...</td>\n",
       "      <td>1</td>\n",
       "    </tr>\n",
       "    <tr>\n",
       "      <th>4</th>\n",
       "      <td>7</td>\n",
       "      <td>missing</td>\n",
       "      <td>missing</td>\n",
       "      <td>Just got sent this photo from Ruby #Alaska as ...</td>\n",
       "      <td>1</td>\n",
       "    </tr>\n",
       "  </tbody>\n",
       "</table>\n",
       "</div>"
      ],
      "text/plain": [
       "   id  keyword location                                               text  \\\n",
       "0   1  missing  missing  Our Deeds are the Reason of this #earthquake M...   \n",
       "1   4  missing  missing             Forest fire near La Ronge Sask. Canada   \n",
       "2   5  missing  missing  All residents asked to 'shelter in place' are ...   \n",
       "3   6  missing  missing  13,000 people receive #wildfires evacuation or...   \n",
       "4   7  missing  missing  Just got sent this photo from Ruby #Alaska as ...   \n",
       "\n",
       "   target  \n",
       "0       1  \n",
       "1       1  \n",
       "2       1  \n",
       "3       1  \n",
       "4       1  "
      ]
     },
     "execution_count": 13,
     "metadata": {},
     "output_type": "execute_result"
    }
   ],
   "source": [
    "df.head()"
   ]
  },
  {
   "cell_type": "markdown",
   "metadata": {},
   "source": [
    "## Creating mean features for keyword and location columns\n",
    "### mean_feature_value = true target values per class / total values per class"
   ]
  },
  {
   "cell_type": "code",
   "execution_count": 14,
   "metadata": {
    "scrolled": true
   },
   "outputs": [
    {
     "data": {
      "text/plain": [
       "{'missing': 61,\n",
       " 'fatalities': 45,\n",
       " 'armageddon': 42,\n",
       " 'deluge': 42,\n",
       " 'sinking': 41,\n",
       " 'harm': 41,\n",
       " 'damage': 41,\n",
       " 'body%20bags': 41,\n",
       " 'evacuate': 40,\n",
       " 'collided': 40,\n",
       " 'siren': 40,\n",
       " 'windstorm': 40,\n",
       " 'twister': 40,\n",
       " 'outbreak': 40,\n",
       " 'fear': 40,\n",
       " 'wrecked': 39,\n",
       " 'earthquake': 39,\n",
       " 'explosion': 39,\n",
       " 'weapon': 39,\n",
       " 'wreckage': 39,\n",
       " 'flames': 39,\n",
       " 'sinkhole': 39,\n",
       " 'derailment': 39,\n",
       " 'famine': 39,\n",
       " 'sunk': 39,\n",
       " 'collision': 39,\n",
       " 'hellfire': 39,\n",
       " 'whirlwind': 39,\n",
       " 'weapons': 39,\n",
       " 'ambulance': 38,\n",
       " 'thunder': 38,\n",
       " 'fire': 38,\n",
       " 'drowned': 38,\n",
       " 'injury': 38,\n",
       " 'flooding': 38,\n",
       " 'deaths': 38,\n",
       " 'bombed': 38,\n",
       " 'hurricane': 38,\n",
       " 'fatal': 38,\n",
       " 'derailed': 38,\n",
       " 'blaze': 38,\n",
       " 'explode': 38,\n",
       " 'typhoon': 38,\n",
       " 'oil%20spill': 38,\n",
       " 'upheaval': 38,\n",
       " 'destroy': 37,\n",
       " 'blizzard': 37,\n",
       " 'wounded': 37,\n",
       " 'burning%20buildings': 37,\n",
       " 'mudslide': 37,\n",
       " 'quarantined': 37,\n",
       " 'sandstorm': 37,\n",
       " 'hostages': 37,\n",
       " 'crush': 37,\n",
       " 'ruin': 37,\n",
       " 'bioterror': 37,\n",
       " 'pandemonium': 37,\n",
       " 'police': 37,\n",
       " 'emergency': 37,\n",
       " 'panic': 37,\n",
       " 'curfew': 37,\n",
       " 'debris': 37,\n",
       " 'fatality': 37,\n",
       " 'wreck': 37,\n",
       " 'catastrophe': 36,\n",
       " 'evacuated': 36,\n",
       " 'cliff%20fall': 36,\n",
       " 'devastation': 36,\n",
       " 'refugees': 36,\n",
       " 'engulfed': 36,\n",
       " 'desolation': 36,\n",
       " 'dust%20storm': 36,\n",
       " 'floods': 36,\n",
       " 'displaced': 36,\n",
       " 'screaming': 36,\n",
       " 'tragedy': 36,\n",
       " 'massacre': 36,\n",
       " 'nuclear%20reactor': 36,\n",
       " 'attack': 36,\n",
       " 'danger': 36,\n",
       " 'detonate': 36,\n",
       " 'ablaze': 36,\n",
       " 'death': 36,\n",
       " 'evacuation': 36,\n",
       " 'collapsed': 35,\n",
       " 'demolition': 35,\n",
       " 'casualties': 35,\n",
       " 'airplane%20accident': 35,\n",
       " 'suicide%20bomb': 35,\n",
       " 'emergency%20plan': 35,\n",
       " 'bridge%20collapse': 35,\n",
       " 'inundated': 35,\n",
       " 'tornado': 35,\n",
       " 'injured': 35,\n",
       " 'buildings%20burning': 35,\n",
       " 'hail': 35,\n",
       " 'bleeding': 35,\n",
       " 'flood': 35,\n",
       " 'bloody': 35,\n",
       " 'rescuers': 35,\n",
       " 'derail': 35,\n",
       " 'rioting': 35,\n",
       " 'disaster': 35,\n",
       " 'structural%20failure': 35,\n",
       " 'traumatised': 35,\n",
       " 'razed': 35,\n",
       " 'screams': 35,\n",
       " 'attacked': 35,\n",
       " 'hijacker': 35,\n",
       " 'blood': 35,\n",
       " 'storm': 35,\n",
       " 'drought': 35,\n",
       " 'rescued': 35,\n",
       " 'hazardous': 35,\n",
       " 'accident': 35,\n",
       " 'flattened': 34,\n",
       " 'electrocuted': 34,\n",
       " 'collide': 34,\n",
       " 'annihilated': 34,\n",
       " 'crashed': 34,\n",
       " 'nuclear%20disaster': 34,\n",
       " 'burning': 34,\n",
       " 'casualty': 34,\n",
       " 'blazing': 34,\n",
       " 'drowning': 34,\n",
       " 'hazard': 34,\n",
       " 'military': 34,\n",
       " 'aftershock': 34,\n",
       " 'lava': 34,\n",
       " 'screamed': 34,\n",
       " 'demolish': 34,\n",
       " 'heat%20wave': 34,\n",
       " 'loud%20bang': 34,\n",
       " 'bomb': 34,\n",
       " 'tsunami': 34,\n",
       " 'army': 34,\n",
       " 'riot': 34,\n",
       " 'arsonist': 34,\n",
       " 'collapse': 34,\n",
       " 'destruction': 34,\n",
       " 'terrorism': 34,\n",
       " 'natural%20disaster': 34,\n",
       " 'rainstorm': 34,\n",
       " 'smoke': 34,\n",
       " 'quarantine': 34,\n",
       " 'hijack': 33,\n",
       " 'fire%20truck': 33,\n",
       " 'wildfire': 33,\n",
       " 'wounds': 33,\n",
       " 'survived': 33,\n",
       " 'blown%20up': 33,\n",
       " 'body%20bag': 33,\n",
       " 'suicide%20bombing': 33,\n",
       " 'violent%20storm': 33,\n",
       " 'meltdown': 33,\n",
       " 'lightning': 33,\n",
       " 'blew%20up': 33,\n",
       " 'emergency%20services': 33,\n",
       " 'stretcher': 33,\n",
       " 'panicking': 33,\n",
       " 'burned': 33,\n",
       " 'body%20bagging': 33,\n",
       " 'thunderstorm': 33,\n",
       " 'mass%20murder': 33,\n",
       " 'chemical%20emergency': 33,\n",
       " 'landslide': 33,\n",
       " 'buildings%20on%20fire': 33,\n",
       " 'injuries': 33,\n",
       " 'trouble': 33,\n",
       " 'exploded': 33,\n",
       " 'crash': 33,\n",
       " 'trapped': 32,\n",
       " 'forest%20fires': 32,\n",
       " 'cyclone': 32,\n",
       " 'hailstorm': 32,\n",
       " 'eyewitness': 32,\n",
       " 'drown': 32,\n",
       " 'survive': 32,\n",
       " 'hijacking': 32,\n",
       " 'destroyed': 32,\n",
       " 'mass%20murderer': 32,\n",
       " 'electrocute': 32,\n",
       " 'apocalypse': 32,\n",
       " 'detonation': 32,\n",
       " 'blight': 32,\n",
       " 'arson': 32,\n",
       " 'obliterated': 31,\n",
       " 'hostage': 31,\n",
       " 'obliterate': 31,\n",
       " 'wild%20fires': 31,\n",
       " 'devastated': 31,\n",
       " 'crushed': 31,\n",
       " 'suicide%20bomber': 31,\n",
       " 'terrorist': 31,\n",
       " 'trauma': 31,\n",
       " 'dead': 30,\n",
       " 'survivors': 30,\n",
       " 'avalanche': 30,\n",
       " 'catastrophic': 30,\n",
       " 'bioterrorism': 30,\n",
       " 'mayhem': 30,\n",
       " 'annihilation': 29,\n",
       " 'desolate': 29,\n",
       " 'snowstorm': 29,\n",
       " 'first%20responders': 29,\n",
       " 'sirens': 29,\n",
       " 'seismic': 29,\n",
       " 'bombing': 29,\n",
       " 'obliteration': 29,\n",
       " 'demolished': 28,\n",
       " 'rubble': 28,\n",
       " 'deluged': 27,\n",
       " 'volcano': 27,\n",
       " 'battle': 26,\n",
       " 'bush%20fires': 25,\n",
       " 'war%20zone': 24,\n",
       " 'rescue': 22,\n",
       " 'forest%20fire': 19,\n",
       " 'epicentre': 12,\n",
       " 'threat': 11,\n",
       " 'inundation': 10,\n",
       " 'radiation%20emergency': 9}"
      ]
     },
     "execution_count": 14,
     "metadata": {},
     "output_type": "execute_result"
    }
   ],
   "source": [
    "total_values_per_keyword = dict(df['keyword'].value_counts())\n",
    "\n",
    "total_values_per_keyword"
   ]
  },
  {
   "cell_type": "code",
   "execution_count": 15,
   "metadata": {},
   "outputs": [],
   "source": [
    "true_target_values_per_keyword = df[df['target']==1][['target','keyword']].groupby('keyword').count()\n",
    "\n",
    "true_target_values_per_keyword = true_target_values_per_keyword.to_dict()['target']"
   ]
  },
  {
   "cell_type": "code",
   "execution_count": 16,
   "metadata": {},
   "outputs": [
    {
     "data": {
      "text/plain": [
       "42"
      ]
     },
     "execution_count": 16,
     "metadata": {},
     "output_type": "execute_result"
    }
   ],
   "source": [
    "true_target_values_per_keyword['missing']"
   ]
  },
  {
   "cell_type": "code",
   "execution_count": 17,
   "metadata": {},
   "outputs": [],
   "source": [
    "mean_feature_dict = {}\n",
    "for keyword in total_values_per_keyword.keys():\n",
    "    try:\n",
    "        mean_feature_dict[keyword] = np.round(true_target_values_per_keyword[keyword]/total_values_per_keyword[keyword],2)\n",
    "    except:\n",
    "        mean_feature_dict[keyword] = 0"
   ]
  },
  {
   "cell_type": "code",
   "execution_count": 18,
   "metadata": {},
   "outputs": [
    {
     "data": {
      "text/plain": [
       "{'missing': 0.69,\n",
       " 'fatalities': 0.58,\n",
       " 'armageddon': 0.12,\n",
       " 'deluge': 0.14,\n",
       " 'sinking': 0.2,\n",
       " 'harm': 0.1,\n",
       " 'damage': 0.46,\n",
       " 'body%20bags': 0.02,\n",
       " 'evacuate': 0.62,\n",
       " 'collided': 0.57,\n",
       " 'siren': 0.12,\n",
       " 'windstorm': 0.4,\n",
       " 'twister': 0.12,\n",
       " 'outbreak': 0.98,\n",
       " 'fear': 0.12,\n",
       " 'wrecked': 0.08,\n",
       " 'earthquake': 0.77,\n",
       " 'explosion': 0.51,\n",
       " 'weapon': 0.36,\n",
       " 'wreckage': 1.0,\n",
       " 'flames': 0.33,\n",
       " 'sinkhole': 0.69,\n",
       " 'derailment': 1.0,\n",
       " 'famine': 0.67,\n",
       " 'sunk': 0.23,\n",
       " 'collision': 0.74,\n",
       " 'hellfire': 0.18,\n",
       " 'whirlwind': 0.36,\n",
       " 'weapons': 0.44,\n",
       " 'ambulance': 0.53,\n",
       " 'thunder': 0.32,\n",
       " 'fire': 0.29,\n",
       " 'drowned': 0.39,\n",
       " 'injury': 0.29,\n",
       " 'flooding': 0.66,\n",
       " 'deaths': 0.68,\n",
       " 'bombed': 0.5,\n",
       " 'hurricane': 0.53,\n",
       " 'fatal': 0.68,\n",
       " 'derailed': 0.68,\n",
       " 'blaze': 0.13,\n",
       " 'explode': 0.08,\n",
       " 'typhoon': 0.97,\n",
       " 'oil%20spill': 0.97,\n",
       " 'upheaval': 0.16,\n",
       " 'destroy': 0.24,\n",
       " 'blizzard': 0.11,\n",
       " 'wounded': 0.7,\n",
       " 'burning%20buildings': 0.57,\n",
       " 'mudslide': 0.32,\n",
       " 'quarantined': 0.38,\n",
       " 'sandstorm': 0.76,\n",
       " 'hostages': 0.73,\n",
       " 'crush': 0.11,\n",
       " 'ruin': 0.03,\n",
       " 'bioterror': 0.59,\n",
       " 'pandemonium': 0.22,\n",
       " 'police': 0.57,\n",
       " 'emergency': 0.38,\n",
       " 'panic': 0.08,\n",
       " 'curfew': 0.14,\n",
       " 'debris': 1.0,\n",
       " 'fatality': 0.27,\n",
       " 'wreck': 0.19,\n",
       " 'catastrophe': 0.19,\n",
       " 'evacuated': 0.89,\n",
       " 'cliff%20fall': 0.22,\n",
       " 'devastation': 0.75,\n",
       " 'refugees': 0.61,\n",
       " 'engulfed': 0.53,\n",
       " 'desolation': 0.19,\n",
       " 'dust%20storm': 0.67,\n",
       " 'floods': 0.72,\n",
       " 'displaced': 0.72,\n",
       " 'screaming': 0.06,\n",
       " 'tragedy': 0.61,\n",
       " 'massacre': 0.69,\n",
       " 'nuclear%20reactor': 0.39,\n",
       " 'attack': 0.69,\n",
       " 'danger': 0.22,\n",
       " 'detonate': 0.28,\n",
       " 'ablaze': 0.36,\n",
       " 'death': 0.25,\n",
       " 'evacuation': 0.78,\n",
       " 'collapsed': 0.37,\n",
       " 'demolition': 0.26,\n",
       " 'casualties': 0.8,\n",
       " 'airplane%20accident': 0.86,\n",
       " 'suicide%20bomb': 0.91,\n",
       " 'emergency%20plan': 0.6,\n",
       " 'bridge%20collapse': 0.83,\n",
       " 'inundated': 0.17,\n",
       " 'tornado': 0.46,\n",
       " 'injured': 0.69,\n",
       " 'buildings%20burning': 0.69,\n",
       " 'hail': 0.51,\n",
       " 'bleeding': 0.14,\n",
       " 'flood': 0.43,\n",
       " 'bloody': 0.09,\n",
       " 'rescuers': 0.91,\n",
       " 'derail': 0.49,\n",
       " 'rioting': 0.66,\n",
       " 'disaster': 0.43,\n",
       " 'structural%20failure': 0.66,\n",
       " 'traumatised': 0.06,\n",
       " 'razed': 0.89,\n",
       " 'screams': 0.14,\n",
       " 'attacked': 0.6,\n",
       " 'hijacker': 0.54,\n",
       " 'blood': 0.14,\n",
       " 'storm': 0.51,\n",
       " 'drought': 0.8,\n",
       " 'rescued': 0.49,\n",
       " 'hazardous': 0.63,\n",
       " 'accident': 0.69,\n",
       " 'flattened': 0.15,\n",
       " 'electrocuted': 0.38,\n",
       " 'collide': 0.09,\n",
       " 'annihilated': 0.32,\n",
       " 'crashed': 0.62,\n",
       " 'nuclear%20disaster': 0.91,\n",
       " 'burning': 0.29,\n",
       " 'casualty': 0.44,\n",
       " 'blazing': 0.03,\n",
       " 'drowning': 0.26,\n",
       " 'hazard': 0.21,\n",
       " 'military': 0.24,\n",
       " 'aftershock': 0,\n",
       " 'lava': 0.15,\n",
       " 'screamed': 0.12,\n",
       " 'demolish': 0.15,\n",
       " 'heat%20wave': 0.74,\n",
       " 'loud%20bang': 0.21,\n",
       " 'bomb': 0.44,\n",
       " 'tsunami': 0.32,\n",
       " 'army': 0.15,\n",
       " 'riot': 0.18,\n",
       " 'arsonist': 0.24,\n",
       " 'collapse': 0.44,\n",
       " 'destruction': 0.18,\n",
       " 'terrorism': 0.71,\n",
       " 'natural%20disaster': 0.53,\n",
       " 'rainstorm': 0.53,\n",
       " 'smoke': 0.09,\n",
       " 'quarantine': 0.15,\n",
       " 'hijack': 0.48,\n",
       " 'fire%20truck': 0.67,\n",
       " 'wildfire': 0.88,\n",
       " 'wounds': 0.3,\n",
       " 'survived': 0.3,\n",
       " 'blown%20up': 0.15,\n",
       " 'body%20bag': 0.03,\n",
       " 'suicide%20bombing': 0.97,\n",
       " 'violent%20storm': 0.79,\n",
       " 'meltdown': 0.15,\n",
       " 'lightning': 0.52,\n",
       " 'blew%20up': 0.06,\n",
       " 'emergency%20services': 0.33,\n",
       " 'stretcher': 0.09,\n",
       " 'panicking': 0.06,\n",
       " 'burned': 0.21,\n",
       " 'body%20bagging': 0.15,\n",
       " 'thunderstorm': 0.79,\n",
       " 'mass%20murder': 0.85,\n",
       " 'chemical%20emergency': 0.45,\n",
       " 'landslide': 0.42,\n",
       " 'buildings%20on%20fire': 0.85,\n",
       " 'injuries': 0.27,\n",
       " 'trouble': 0.15,\n",
       " 'exploded': 0.27,\n",
       " 'crash': 0.36,\n",
       " 'trapped': 0.28,\n",
       " 'forest%20fires': 0.84,\n",
       " 'cyclone': 0.59,\n",
       " 'hailstorm': 0.75,\n",
       " 'eyewitness': 0.38,\n",
       " 'drown': 0.09,\n",
       " 'survive': 0.16,\n",
       " 'hijacking': 0.47,\n",
       " 'destroyed': 0.25,\n",
       " 'mass%20murderer': 0.59,\n",
       " 'electrocute': 0.03,\n",
       " 'apocalypse': 0.28,\n",
       " 'detonation': 0.28,\n",
       " 'blight': 0.06,\n",
       " 'arson': 0.69,\n",
       " 'obliterated': 0.13,\n",
       " 'hostage': 0.48,\n",
       " 'obliterate': 0.13,\n",
       " 'wild%20fires': 0.87,\n",
       " 'devastated': 0.58,\n",
       " 'crushed': 0.13,\n",
       " 'suicide%20bomber': 0.97,\n",
       " 'terrorist': 0.74,\n",
       " 'trauma': 0.35,\n",
       " 'dead': 0.23,\n",
       " 'survivors': 0.7,\n",
       " 'avalanche': 0.13,\n",
       " 'catastrophic': 0.67,\n",
       " 'bioterrorism': 0.7,\n",
       " 'mayhem': 0.1,\n",
       " 'annihilation': 0.34,\n",
       " 'desolate': 0.24,\n",
       " 'snowstorm': 0.45,\n",
       " 'first%20responders': 0.41,\n",
       " 'sirens': 0.24,\n",
       " 'seismic': 0.45,\n",
       " 'bombing': 0.93,\n",
       " 'obliteration': 0.14,\n",
       " 'demolished': 0.25,\n",
       " 'rubble': 0.36,\n",
       " 'deluged': 0.26,\n",
       " 'volcano': 0.67,\n",
       " 'battle': 0.19,\n",
       " 'bush%20fires': 0.72,\n",
       " 'war%20zone': 0.29,\n",
       " 'rescue': 0.23,\n",
       " 'forest%20fire': 0.79,\n",
       " 'epicentre': 0.08,\n",
       " 'threat': 0.18,\n",
       " 'inundation': 0.2,\n",
       " 'radiation%20emergency': 0.56}"
      ]
     },
     "execution_count": 18,
     "metadata": {},
     "output_type": "execute_result"
    }
   ],
   "source": [
    "mean_feature_dict"
   ]
  },
  {
   "cell_type": "code",
   "execution_count": 19,
   "metadata": {},
   "outputs": [],
   "source": [
    "df['keyword'] = df['keyword'].apply(lambda x : mean_feature_dict[x])"
   ]
  },
  {
   "cell_type": "code",
   "execution_count": 20,
   "metadata": {},
   "outputs": [
    {
     "data": {
      "text/html": [
       "<div>\n",
       "<style scoped>\n",
       "    .dataframe tbody tr th:only-of-type {\n",
       "        vertical-align: middle;\n",
       "    }\n",
       "\n",
       "    .dataframe tbody tr th {\n",
       "        vertical-align: top;\n",
       "    }\n",
       "\n",
       "    .dataframe thead th {\n",
       "        text-align: right;\n",
       "    }\n",
       "</style>\n",
       "<table border=\"1\" class=\"dataframe\">\n",
       "  <thead>\n",
       "    <tr style=\"text-align: right;\">\n",
       "      <th></th>\n",
       "      <th>id</th>\n",
       "      <th>keyword</th>\n",
       "      <th>location</th>\n",
       "      <th>text</th>\n",
       "      <th>target</th>\n",
       "    </tr>\n",
       "  </thead>\n",
       "  <tbody>\n",
       "    <tr>\n",
       "      <th>0</th>\n",
       "      <td>1</td>\n",
       "      <td>0.69</td>\n",
       "      <td>missing</td>\n",
       "      <td>Our Deeds are the Reason of this #earthquake M...</td>\n",
       "      <td>1</td>\n",
       "    </tr>\n",
       "    <tr>\n",
       "      <th>1</th>\n",
       "      <td>4</td>\n",
       "      <td>0.69</td>\n",
       "      <td>missing</td>\n",
       "      <td>Forest fire near La Ronge Sask. Canada</td>\n",
       "      <td>1</td>\n",
       "    </tr>\n",
       "    <tr>\n",
       "      <th>2</th>\n",
       "      <td>5</td>\n",
       "      <td>0.69</td>\n",
       "      <td>missing</td>\n",
       "      <td>All residents asked to 'shelter in place' are ...</td>\n",
       "      <td>1</td>\n",
       "    </tr>\n",
       "    <tr>\n",
       "      <th>3</th>\n",
       "      <td>6</td>\n",
       "      <td>0.69</td>\n",
       "      <td>missing</td>\n",
       "      <td>13,000 people receive #wildfires evacuation or...</td>\n",
       "      <td>1</td>\n",
       "    </tr>\n",
       "    <tr>\n",
       "      <th>4</th>\n",
       "      <td>7</td>\n",
       "      <td>0.69</td>\n",
       "      <td>missing</td>\n",
       "      <td>Just got sent this photo from Ruby #Alaska as ...</td>\n",
       "      <td>1</td>\n",
       "    </tr>\n",
       "  </tbody>\n",
       "</table>\n",
       "</div>"
      ],
      "text/plain": [
       "   id  keyword location                                               text  \\\n",
       "0   1     0.69  missing  Our Deeds are the Reason of this #earthquake M...   \n",
       "1   4     0.69  missing             Forest fire near La Ronge Sask. Canada   \n",
       "2   5     0.69  missing  All residents asked to 'shelter in place' are ...   \n",
       "3   6     0.69  missing  13,000 people receive #wildfires evacuation or...   \n",
       "4   7     0.69  missing  Just got sent this photo from Ruby #Alaska as ...   \n",
       "\n",
       "   target  \n",
       "0       1  \n",
       "1       1  \n",
       "2       1  \n",
       "3       1  \n",
       "4       1  "
      ]
     },
     "execution_count": 20,
     "metadata": {},
     "output_type": "execute_result"
    }
   ],
   "source": [
    "df.head()"
   ]
  },
  {
   "cell_type": "markdown",
   "metadata": {},
   "source": [
    "## Combining features to form complete processed df"
   ]
  },
  {
   "cell_type": "code",
   "execution_count": 21,
   "metadata": {},
   "outputs": [],
   "source": [
    "embedding_df['keyword'] = df['keyword']\n",
    "embedding_df['target'] = df['target']"
   ]
  },
  {
   "cell_type": "code",
   "execution_count": 22,
   "metadata": {},
   "outputs": [
    {
     "data": {
      "text/html": [
       "<div>\n",
       "<style scoped>\n",
       "    .dataframe tbody tr th:only-of-type {\n",
       "        vertical-align: middle;\n",
       "    }\n",
       "\n",
       "    .dataframe tbody tr th {\n",
       "        vertical-align: top;\n",
       "    }\n",
       "\n",
       "    .dataframe thead th {\n",
       "        text-align: right;\n",
       "    }\n",
       "</style>\n",
       "<table border=\"1\" class=\"dataframe\">\n",
       "  <thead>\n",
       "    <tr style=\"text-align: right;\">\n",
       "      <th></th>\n",
       "      <th>0</th>\n",
       "      <th>1</th>\n",
       "      <th>2</th>\n",
       "      <th>3</th>\n",
       "      <th>4</th>\n",
       "      <th>5</th>\n",
       "      <th>6</th>\n",
       "      <th>7</th>\n",
       "      <th>8</th>\n",
       "      <th>9</th>\n",
       "      <th>...</th>\n",
       "      <th>292</th>\n",
       "      <th>293</th>\n",
       "      <th>294</th>\n",
       "      <th>295</th>\n",
       "      <th>296</th>\n",
       "      <th>297</th>\n",
       "      <th>298</th>\n",
       "      <th>299</th>\n",
       "      <th>keyword</th>\n",
       "      <th>target</th>\n",
       "    </tr>\n",
       "  </thead>\n",
       "  <tbody>\n",
       "    <tr>\n",
       "      <th>0</th>\n",
       "      <td>-0.462142</td>\n",
       "      <td>0.052778</td>\n",
       "      <td>-0.147526</td>\n",
       "      <td>-0.022433</td>\n",
       "      <td>-0.065914</td>\n",
       "      <td>-0.163390</td>\n",
       "      <td>-0.084180</td>\n",
       "      <td>0.149339</td>\n",
       "      <td>0.007110</td>\n",
       "      <td>2.059819</td>\n",
       "      <td>...</td>\n",
       "      <td>-0.325243</td>\n",
       "      <td>-0.014464</td>\n",
       "      <td>0.361223</td>\n",
       "      <td>-0.134999</td>\n",
       "      <td>0.008728</td>\n",
       "      <td>0.176468</td>\n",
       "      <td>-0.029409</td>\n",
       "      <td>-0.144857</td>\n",
       "      <td>0.69</td>\n",
       "      <td>1</td>\n",
       "    </tr>\n",
       "    <tr>\n",
       "      <th>1</th>\n",
       "      <td>-0.014817</td>\n",
       "      <td>-0.092123</td>\n",
       "      <td>-0.107169</td>\n",
       "      <td>-0.338657</td>\n",
       "      <td>0.322136</td>\n",
       "      <td>0.048467</td>\n",
       "      <td>0.321796</td>\n",
       "      <td>-0.062403</td>\n",
       "      <td>-0.188868</td>\n",
       "      <td>1.100879</td>\n",
       "      <td>...</td>\n",
       "      <td>0.135487</td>\n",
       "      <td>0.009727</td>\n",
       "      <td>0.243807</td>\n",
       "      <td>0.165720</td>\n",
       "      <td>-0.062201</td>\n",
       "      <td>-0.115065</td>\n",
       "      <td>-0.260096</td>\n",
       "      <td>0.124245</td>\n",
       "      <td>0.69</td>\n",
       "      <td>1</td>\n",
       "    </tr>\n",
       "  </tbody>\n",
       "</table>\n",
       "<p>2 rows × 302 columns</p>\n",
       "</div>"
      ],
      "text/plain": [
       "          0         1         2         3         4         5         6  \\\n",
       "0 -0.462142  0.052778 -0.147526 -0.022433 -0.065914 -0.163390 -0.084180   \n",
       "1 -0.014817 -0.092123 -0.107169 -0.338657  0.322136  0.048467  0.321796   \n",
       "\n",
       "          7         8         9  ...       292       293       294       295  \\\n",
       "0  0.149339  0.007110  2.059819  ... -0.325243 -0.014464  0.361223 -0.134999   \n",
       "1 -0.062403 -0.188868  1.100879  ...  0.135487  0.009727  0.243807  0.165720   \n",
       "\n",
       "        296       297       298       299  keyword  target  \n",
       "0  0.008728  0.176468 -0.029409 -0.144857     0.69       1  \n",
       "1 -0.062201 -0.115065 -0.260096  0.124245     0.69       1  \n",
       "\n",
       "[2 rows x 302 columns]"
      ]
     },
     "execution_count": 22,
     "metadata": {},
     "output_type": "execute_result"
    }
   ],
   "source": [
    "embedding_df.head(2)"
   ]
  },
  {
   "cell_type": "code",
   "execution_count": 23,
   "metadata": {},
   "outputs": [
    {
     "data": {
      "text/plain": [
       "(7613, 302)"
      ]
     },
     "execution_count": 23,
     "metadata": {},
     "output_type": "execute_result"
    }
   ],
   "source": [
    "embedding_df.shape"
   ]
  },
  {
   "cell_type": "markdown",
   "metadata": {},
   "source": [
    "## Saving our final feature dataframe to disk"
   ]
  },
  {
   "cell_type": "code",
   "execution_count": 24,
   "metadata": {},
   "outputs": [],
   "source": [
    "embedding_df.to_csv('final_train_set.csv',index=False)"
   ]
  },
  {
   "cell_type": "code",
   "execution_count": null,
   "metadata": {},
   "outputs": [],
   "source": []
  },
  {
   "cell_type": "markdown",
   "metadata": {},
   "source": [
    "# Let's Start Training"
   ]
  },
  {
   "cell_type": "code",
   "execution_count": 25,
   "metadata": {},
   "outputs": [],
   "source": [
    "import torch\n",
    "\n",
    "from torch.utils.data import TensorDataset, DataLoader\n",
    "\n",
    "from torch import nn\n",
    "\n",
    "import torch.nn.functional as F\n",
    "\n",
    "from torch import optim"
   ]
  },
  {
   "cell_type": "code",
   "execution_count": 53,
   "metadata": {},
   "outputs": [],
   "source": [
    "# Defining hyperparameters\n",
    "bs = 128\n",
    "loss_func = F.cross_entropy\n"
   ]
  },
  {
   "cell_type": "markdown",
   "metadata": {},
   "source": [
    "### Using 2 layer network architecture "
   ]
  },
  {
   "cell_type": "code",
   "execution_count": 91,
   "metadata": {},
   "outputs": [],
   "source": [
    "class ModelClass(nn.Module):\n",
    "    def __init__(self, fan_in):\n",
    "        super().__init__()\n",
    "        self.fc1 = nn.Linear(fan_in, 64)\n",
    "        nn.init.kaiming_uniform_(self.fc1.weight, nonlinearity='relu')\n",
    "\n",
    "        self.fc2 = nn.Linear(64, 2)\n",
    "        \n",
    "    def forward(self, xb):\n",
    "        z1 = self.fc1(xb)\n",
    "        a1 = F.relu(z1)\n",
    "        \n",
    "        return self.fc2(a1)"
   ]
  },
  {
   "cell_type": "markdown",
   "metadata": {},
   "source": [
    "## Using Adam Optimiser this time "
   ]
  },
  {
   "cell_type": "code",
   "execution_count": 88,
   "metadata": {},
   "outputs": [],
   "source": [
    "# Get model and optimiser \n",
    "def get_model(in_features, lr=0.005):\n",
    "    model = ModelClass(in_features)\n",
    "    opt = optim.Adam(model.parameters(),lr=lr) # tune this for improving model performance\n",
    "    return model, opt"
   ]
  },
  {
   "cell_type": "code",
   "execution_count": 29,
   "metadata": {},
   "outputs": [],
   "source": [
    "# Get Data Function\n",
    "def to_tensor(X,y):\n",
    "    return TensorDataset(torch.tensor(X), torch.tensor(y))"
   ]
  },
  {
   "cell_type": "code",
   "execution_count": 32,
   "metadata": {},
   "outputs": [],
   "source": [
    "X = embedding_df.drop('target',axis=1)\n",
    "Y = embedding_df['target']"
   ]
  },
  {
   "cell_type": "code",
   "execution_count": 33,
   "metadata": {},
   "outputs": [],
   "source": [
    "# Splitting train and test set from the whole data \n",
    "from sklearn.model_selection import train_test_split\n"
   ]
  },
  {
   "cell_type": "code",
   "execution_count": 34,
   "metadata": {},
   "outputs": [],
   "source": [
    "train_x, test_x , train_y, test_y = train_test_split(X,Y, test_size = 0.20, random_state=100, stratify= Y)"
   ]
  },
  {
   "cell_type": "code",
   "execution_count": 36,
   "metadata": {},
   "outputs": [
    {
     "data": {
      "text/plain": [
       "((6090, 301), (1523, 301), (6090,), (1523,))"
      ]
     },
     "execution_count": 36,
     "metadata": {},
     "output_type": "execute_result"
    }
   ],
   "source": [
    "train_x.shape, test_x.shape, train_y.shape,  test_y.shape"
   ]
  },
  {
   "cell_type": "code",
   "execution_count": 38,
   "metadata": {},
   "outputs": [],
   "source": [
    "train_dl = DataLoader(to_tensor(np.array(train_x),np.array(train_y)),batch_size=bs, shuffle=True)\n",
    "valid_dl = DataLoader(to_tensor(np.array(test_x),np.array(test_y)),batch_size=2*bs)"
   ]
  },
  {
   "cell_type": "code",
   "execution_count": 94,
   "metadata": {},
   "outputs": [],
   "source": [
    "# Getting optimiser and model \n",
    "genre_model, Opt = get_model(301, lr=0.0001)"
   ]
  },
  {
   "cell_type": "code",
   "execution_count": 95,
   "metadata": {},
   "outputs": [
    {
     "name": "stdout",
     "output_type": "stream",
     "text": [
      "Epoch 10:  Train Loss: 0.011314221657812595 Validation Loss: 0.5087879300117493\n",
      "Epoch 20:  Train Loss: 0.008273358456790447 Validation Loss: 0.4841863811016083\n",
      "Epoch 30:  Train Loss: 0.008754896931350231 Validation Loss: 0.47337308526039124\n",
      "Epoch 40:  Train Loss: 0.008490222506225109 Validation Loss: 0.4665015637874603\n",
      "Epoch 50:  Train Loss: 0.007522348314523697 Validation Loss: 0.46242043375968933\n",
      "Epoch 60:  Train Loss: 0.010117593221366405 Validation Loss: 0.4600246250629425\n",
      "Epoch 70:  Train Loss: 0.008472609333693981 Validation Loss: 0.4581628739833832\n",
      "Epoch 80:  Train Loss: 0.005028448533266783 Validation Loss: 0.45706185698509216\n",
      "Epoch 90:  Train Loss: 0.008832870051264763 Validation Loss: 0.456672340631485\n",
      "Epoch 100:  Train Loss: 0.0072457133792340755 Validation Loss: 0.4565759599208832\n"
     ]
    }
   ],
   "source": [
    "scheduler = optim.lr_scheduler.ReduceLROnPlateau(Opt, factor=0.1, patience=10)\n",
    "loss_train, loss_valid = [], []\n",
    "\n",
    "for epoch in range(100):\n",
    "    genre_model.train()\n",
    "    train_loss = 0\n",
    "    for xb, yb in train_dl:\n",
    "        pred = genre_model(xb.float())\n",
    "        loss = loss_func(pred, yb)\n",
    "\n",
    "        Opt.zero_grad()\n",
    "        loss.backward()\n",
    "        Opt.step()\n",
    "        train_loss += loss.item()\n",
    "    loss_train.append(loss/len(train_dl))\n",
    "        \n",
    "    \n",
    "    genre_model.eval()\n",
    "    with torch.no_grad():\n",
    "        valid_loss = sum(loss_func(genre_model(xb.float()), yb) for xb, yb in valid_dl)\n",
    "        loss_valid.append(valid_loss)\n",
    "    if (epoch+1)%10==0:\n",
    "        print(\"Epoch {}:  Train Loss: {} Validation Loss: {}\".format(epoch+1,loss_train[epoch] ,valid_loss / len(valid_dl)))\n",
    "    scheduler.step(valid_loss)"
   ]
  },
  {
   "cell_type": "code",
   "execution_count": 96,
   "metadata": {},
   "outputs": [],
   "source": [
    "import matplotlib.pyplot as plt"
   ]
  },
  {
   "cell_type": "code",
   "execution_count": 97,
   "metadata": {},
   "outputs": [
    {
     "data": {
      "text/plain": [
       "Text(0.5, 0, 'epoch')"
      ]
     },
     "execution_count": 97,
     "metadata": {},
     "output_type": "execute_result"
    },
    {
     "data": {
      "image/png": "[encoded data removed]",
      "text/plain": [
       "<Figure size 432x288 with 1 Axes>"
      ]
     },
     "metadata": {
      "needs_background": "light"
     },
     "output_type": "display_data"
    }
   ],
   "source": [
    "plt.title('Loss-Epoch-Curve')\n",
    "plt.plot(loss_train,color=\"Blue\")\n",
    "plt.plot(loss_valid,color=\"Orange\")\n",
    "plt.ylabel(\"Loss\")\n",
    "plt.xlabel(\"epoch\")"
   ]
  },
  {
   "cell_type": "code",
   "execution_count": null,
   "metadata": {},
   "outputs": [],
   "source": []
  }
 ],
 "metadata": {
  "kernelspec": {
   "display_name": "Python 3",
   "language": "python",
   "name": "python3"
  },
  "language_info": {
   "codemirror_mode": {
    "name": "ipython",
    "version": 3
   },
   "file_extension": ".py",
   "mimetype": "text/x-python",
   "name": "python",
   "nbconvert_exporter": "python",
   "pygments_lexer": "ipython3",
   "version": "3.7.4"
  }
 },
 "nbformat": 4,
 "nbformat_minor": 4
}
